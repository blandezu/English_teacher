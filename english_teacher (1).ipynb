{
  "nbformat": 4,
  "nbformat_minor": 0,
  "metadata": {
    "colab": {
      "provenance": []
    },
    "kernelspec": {
      "name": "python3",
      "display_name": "Python 3"
    },
    "language_info": {
      "name": "python"
    }
  },
  "cells": [
    {
      "cell_type": "code",
      "execution_count": 2,
      "metadata": {
        "colab": {
          "base_uri": "https://localhost:8080/"
        },
        "id": "V-K_LRX-FaBn",
        "outputId": "ed65d5c5-8357-4ea1-e5cd-0c54db59641a"
      },
      "outputs": [
        {
          "output_type": "stream",
          "name": "stdout",
          "text": [
            "Mounted at /content/gdrive\n"
          ]
        }
      ],
      "source": [
        "from google.colab import drive\n",
        "drive.mount('/content/gdrive', force_remount=True)  # connect Colab file to Google drive\n"
      ]
    },
    {
      "cell_type": "code",
      "source": [
        "path = \"/content/gdrive/My Drive/files/\""
      ],
      "metadata": {
        "id": "CE4KpxzgGW-d"
      },
      "execution_count": 7,
      "outputs": []
    },
    {
      "cell_type": "code",
      "source": [
        "import pandas as pd\n",
        "import os\n",
        "import random"
      ],
      "metadata": {
        "id": "raliySpoFo5Y"
      },
      "execution_count": 3,
      "outputs": []
    },
    {
      "cell_type": "code",
      "source": [
        "class EnglishTeacher:\n",
        "  def __init__(self, df):\n",
        "    self.df = pd.read_excel(path + \"en_rus_words.xlsx\")\n",
        "    \n",
        "\n",
        "  def learn_words(self):\n",
        "    print(\"learn_words\")\n",
        "  \n",
        "  def learn_words_by_variance(self):\n",
        "    print(\"learn_words_by_variance\")"
      ],
      "metadata": {
        "id": "ZeD9ZfXZFo8B"
      },
      "execution_count": 4,
      "outputs": []
    },
    {
      "cell_type": "code",
      "source": [
        "class EnglishTeacher:\n",
        "  def init(self):\n",
        "    self.df = pd.read_excel(path+\"en_rus_words.xlsx\")\n",
        "    self.score = 0\n",
        "\n",
        "  def get_en_ru_word(self):\n",
        "    num = random.randint(0, len(self.df))\n",
        "    en_word = self.df['english'][num]\n",
        "    rus_word = self.df['russian'][num]\n",
        "    return en_word, rus_word\n",
        "\n",
        "  def get_3_rus_words(self):\n",
        "    rus_words = list(self.df['russian'])\n",
        "    return random.sample(rus_words, 3)\n",
        "\n",
        "  def learn_words(self):\n",
        "    \"\"\"\n",
        "    Программа печатает на англ. Пользователь должен отгадать перевод на рус.\n",
        "    \"\"\"\n",
        "    en_word, rus_word = self.get_en_ru_word()\n",
        "    print(f\"\\nwhat is '{en_word}' in russian?\")\n",
        "    answer = input()\n",
        "    if answer in rus_word:\n",
        "      print(\"correctly!\")\n",
        "      self.score += 1\n",
        "    else:\n",
        "      print(\"uncorrect\")\n",
        "    print(f\"right answer is '{rus_word}'\")\n",
        "\n",
        "  def learn_words_by_variance(self):\n",
        "    \"\"\"\n",
        "    Программа печатает на англ. и дает 4 варианта ответа, пользователь должен выбрать правильный вариант\n",
        "    \"\"\"\n",
        "    en_word, rus_word = self.get_en_ru_word()\n",
        "    rus_words = self.get_3_rus_words()\n",
        "    rus_words.insert(random.randint(0, 3), rus_word)\n",
        "    print(f\"\\nwhat is '{en_word}' in russian?\")\n",
        "\n",
        "    for i, word in enumerate(rus_words):\n",
        "      print(i, \"-\", word)\n",
        "\n",
        "    answer = int(input(\"type number of variance: \"))\n",
        "    if answer > 3:\n",
        "      answer = int(input(\"type number of variance again (it's number in range [0-3]): \"))\n",
        "\n",
        "    if rus_words[answer] == rus_word:\n",
        "      print(\"correctly!\")\n",
        "      self.score += 1\n",
        "    else:\n",
        "      print(\"uncorrect\")\n",
        "    print(f\"right answer is '{rus_word}'\")\n",
        "    print(\"=\"*100)\n",
        "\n",
        "  def guest_letter(self):\n",
        "    en_word = random.choice(list(self.df['english']))\n",
        "    index = random.randint(0, len(en_word)-1)\n",
        "    correct_answer = en_word[index]\n",
        "\n",
        "    list_en = list(en_word)\n",
        "    list_en[index] = '*'\n",
        "    join_en_word = \"\".join(list_en)\n",
        "\n",
        "    print(f\"what is letter is missing in word '{join_en_word}'?\")\n",
        "    answer = input()\n",
        "    if answer.lower() == correct_answer.lower():\n",
        "      print(\"correctly!\")\n",
        "      self.score += 1\n",
        "    else:\n",
        "      print(\"uncorrect\")\n",
        "      print(f\"right answer is '{correct_answer}'\")\n",
        "\n",
        "  def run(self):\n",
        "    self.score = 0\n",
        "    num1 = int(input(\"how many words do you want to learn? (function guest word)\"))\n",
        "    num2 = int(input(\"how many words do you want to learn? (function guest word by variance)\"))\n",
        "    num3 = int(input(\"how many words do you want to gues letter? (function guest letter)\"))\n",
        "\n",
        "    for i in range(num1):\n",
        "      self.learn_words()\n",
        "\n",
        "    print(\"*\"*100)\n",
        "    for i in range(num2):\n",
        "      self.learn_words_by_variance()\n",
        "\n",
        "    print(\"*\"*100)\n",
        "    for i in range(num3):\n",
        "      self.guest_letter()\n",
        "\n",
        "    print(f\"***************your score is {self.score}***************\")"
      ],
      "metadata": {
        "id": "ZtRCkCw0eF1O"
      },
      "execution_count": 15,
      "outputs": []
    },
    {
      "cell_type": "code",
      "source": [
        "teacher = EnglishTeacher()\n",
        "teacher.run()"
      ],
      "metadata": {
        "id": "CFkADc1PFpFn"
      },
      "execution_count": null,
      "outputs": []
    },
    {
      "cell_type": "code",
      "source": [],
      "metadata": {
        "id": "6P3jx6FhFpHe"
      },
      "execution_count": null,
      "outputs": []
    }
  ]
}